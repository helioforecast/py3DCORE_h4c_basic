{
 "cells": [
  {
   "cell_type": "markdown",
   "id": "eaff2955",
   "metadata": {},
   "source": [
    "# Plotting routine for the Sep 2022 Event - SolO"
   ]
  },
  {
   "cell_type": "code",
   "execution_count": 1,
   "id": "ad9c50ab",
   "metadata": {},
   "outputs": [],
   "source": [
    "test = 'test'"
   ]
  },
  {
   "cell_type": "code",
   "execution_count": 10,
   "id": "f066f5d7",
   "metadata": {},
   "outputs": [
    {
     "name": "stdout",
     "output_type": "stream",
     "text": [
      "The autoreload extension is already loaded. To reload it, use:\n",
      "  %reload_ext autoreload\n"
     ]
    }
   ],
   "source": [
    "%load_ext autoreload\n",
    "\n",
    "%autoreload 2\n",
    "\n",
    "import numpy as np\n",
    "import matplotlib.pyplot as plt\n",
    "import pickle as p\n",
    "\n",
    "import datetime as datetime\n",
    "from datetime import timedelta\n",
    "import seaborn as sns\n",
    "import pandas as pd\n",
    "import os\n",
    "#import copy as cp\n",
    "\n",
    "import multiprocessing\n",
    "import py3dcore_h4c as py3dcore_h4c\n",
    "\n",
    "import py3dcore_h4c.fluxplot as fp\n",
    "\n",
    "plt.switch_backend('agg')\n",
    "\n",
    "\n",
    "import warnings\n",
    "warnings.filterwarnings('ignore')\n",
    "\n",
    "import logging\n",
    "\n",
    "logging.basicConfig(level=logging.INFO)\n",
    "logging.getLogger(\"heliosat.spice\").setLevel(\"WARNING\")\n",
    "logging.getLogger(\"heliosat.spacecraft\").setLevel(\"WARNING\")\n",
    "#logging.getLogger(\"sunpy\").setLevel(\"WARNING\")\n",
    "#logging.getLogger(\"py3dcore_h4c.fluxplot\").setLevel(\"WARNING\")\n",
    "\n",
    "#print(sns.__version__)"
   ]
  },
  {
   "cell_type": "markdown",
   "id": "63be46e7",
   "metadata": {},
   "source": [
    "#### setting the times for py3DCORE_h4c"
   ]
  },
  {
   "cell_type": "code",
   "execution_count": 11,
   "id": "5d930e9e",
   "metadata": {},
   "outputs": [],
   "source": [
    "t_launch = datetime.datetime(2022, 9, 5, 18, tzinfo=datetime.timezone.utc) # launch time assumed at CME impact at PSP at 14.72 Rs\n",
    "\n",
    "t_s = datetime.datetime(2022, 9, 7, 8, tzinfo=datetime.timezone.utc) \n",
    "t_e = datetime.datetime(2022, 9, 8, 3, tzinfo=datetime.timezone.utc)\n",
    "\n",
    "t_fit = [\n",
    "        datetime.datetime(2022, 9, 7, 9, tzinfo=datetime.timezone.utc),\n",
    "        datetime.datetime(2022, 9, 7, 15, tzinfo=datetime.timezone.utc),\n",
    "        datetime.datetime(2022, 9, 7, 20, tzinfo=datetime.timezone.utc),\n",
    "        datetime.datetime(2022, 9, 8, 2, tzinfo=datetime.timezone.utc)\n",
    "     ]\n",
    "\n"
   ]
  },
  {
   "cell_type": "code",
   "execution_count": 12,
   "id": "8f9f9b03",
   "metadata": {},
   "outputs": [
    {
     "name": "stdout",
     "output_type": "stream",
     "text": [
      "['09/07/2022, 09:00:00', '09/07/2022, 15:00:00', '09/07/2022, 20:00:00', '09/08/2022, 02:00:00']\n"
     ]
    }
   ],
   "source": [
    "fittingPoints = []\n",
    "\n",
    "fittingPoints = [t_fit[i].strftime(\"%m/%d/%Y, %H:%M:%S\") for i in range(len(t_fit))]\n",
    "print(fittingPoints)"
   ]
  },
  {
   "cell_type": "markdown",
   "id": "8fa06540",
   "metadata": {},
   "source": [
    "#### loading the pickle files"
   ]
  },
  {
   "cell_type": "code",
   "execution_count": 13,
   "id": "c766452a",
   "metadata": {},
   "outputs": [],
   "source": [
    "path = 'output/solo06092022_heeq_512_heliosat/'\n",
    "\n",
    "filepath = fp.loadpickle(path, number=-1)"
   ]
  },
  {
   "cell_type": "code",
   "execution_count": 14,
   "id": "0a7e0ef7",
   "metadata": {},
   "outputs": [
    {
     "data": {
      "text/plain": [
       "'output/solo06092022_heeq_512_heliosat/05'"
      ]
     },
     "execution_count": 14,
     "metadata": {},
     "output_type": "execute_result"
    }
   ],
   "source": [
    "filepath[:-7]"
   ]
  },
  {
   "cell_type": "markdown",
   "id": "245e30f7",
   "metadata": {},
   "source": [
    "#### extracting parameters"
   ]
  },
  {
   "cell_type": "code",
   "execution_count": 15,
   "id": "d6f33143",
   "metadata": {},
   "outputs": [
    {
     "name": "stderr",
     "output_type": "stream",
     "text": [
      "INFO:py3dcore_h4c.fluxplot:Retrieved the following parameters for the run with minimum epsilon:\n",
      "INFO:py3dcore_h4c.fluxplot: --lon:  126.95\n",
      "INFO:py3dcore_h4c.fluxplot: --lat:  16.46\n",
      "INFO:py3dcore_h4c.fluxplot: --inc:  18.86\n",
      "INFO:py3dcore_h4c.fluxplot: --diameter 1 AU:  0.33\n",
      "INFO:py3dcore_h4c.fluxplot: --aspect ratio:  3.54\n",
      "INFO:py3dcore_h4c.fluxplot: --launch radius:  15.89\n",
      "INFO:py3dcore_h4c.fluxplot: --launch speed:  1173.37\n",
      "INFO:py3dcore_h4c.fluxplot: --t factor:  125.11\n",
      "INFO:py3dcore_h4c.fluxplot: --expansion rate:  1.14\n",
      "INFO:py3dcore_h4c.fluxplot: --magnetic field decay rate:  1.64\n",
      "INFO:py3dcore_h4c.fluxplot: --magnetic field 1 AU:  6.78\n",
      "INFO:py3dcore_h4c.fluxplot: --drag coefficient:  0.30\n",
      "INFO:py3dcore_h4c.fluxplot: --background sw speed:  303.68\n"
     ]
    }
   ],
   "source": [
    "res, allres, ind, meanparams = fp.get_params(filepath, give_mineps=True)"
   ]
  },
  {
   "cell_type": "code",
   "execution_count": 16,
   "id": "578f2e9b",
   "metadata": {},
   "outputs": [],
   "source": [
    "out = fp.get_ensemble_stats(filepath)"
   ]
  },
  {
   "cell_type": "code",
   "execution_count": 17,
   "id": "1ad2bc3e",
   "metadata": {},
   "outputs": [
    {
     "data": {
      "text/html": [
       "<div>\n",
       "<style scoped>\n",
       "    .dataframe tbody tr th:only-of-type {\n",
       "        vertical-align: middle;\n",
       "    }\n",
       "\n",
       "    .dataframe tbody tr th {\n",
       "        vertical-align: top;\n",
       "    }\n",
       "\n",
       "    .dataframe thead th {\n",
       "        text-align: right;\n",
       "    }\n",
       "</style>\n",
       "<table border=\"1\" class=\"dataframe\">\n",
       "  <thead>\n",
       "    <tr style=\"text-align: right;\">\n",
       "      <th></th>\n",
       "      <th>lon</th>\n",
       "      <th>lat</th>\n",
       "      <th>inc</th>\n",
       "      <th>D1AU</th>\n",
       "      <th>delta</th>\n",
       "      <th>launch radius</th>\n",
       "      <th>launch speed</th>\n",
       "      <th>t factor</th>\n",
       "      <th>B1AU</th>\n",
       "      <th>gamma</th>\n",
       "      <th>vsw</th>\n",
       "    </tr>\n",
       "  </thead>\n",
       "  <tbody>\n",
       "    <tr>\n",
       "      <th>count</th>\n",
       "      <td>512.000000</td>\n",
       "      <td>512.000000</td>\n",
       "      <td>512.000000</td>\n",
       "      <td>512.000000</td>\n",
       "      <td>512.000000</td>\n",
       "      <td>512.000000</td>\n",
       "      <td>512.000000</td>\n",
       "      <td>512.000000</td>\n",
       "      <td>512.000000</td>\n",
       "      <td>512.000000</td>\n",
       "      <td>512.000000</td>\n",
       "    </tr>\n",
       "    <tr>\n",
       "      <th>mean</th>\n",
       "      <td>123.207367</td>\n",
       "      <td>0.383455</td>\n",
       "      <td>27.670134</td>\n",
       "      <td>0.276399</td>\n",
       "      <td>2.907418</td>\n",
       "      <td>15.013872</td>\n",
       "      <td>1523.989136</td>\n",
       "      <td>136.532196</td>\n",
       "      <td>6.126930</td>\n",
       "      <td>0.392131</td>\n",
       "      <td>387.536163</td>\n",
       "    </tr>\n",
       "    <tr>\n",
       "      <th>std</th>\n",
       "      <td>7.428696</td>\n",
       "      <td>9.880662</td>\n",
       "      <td>66.831528</td>\n",
       "      <td>0.032857</td>\n",
       "      <td>0.720134</td>\n",
       "      <td>0.568476</td>\n",
       "      <td>289.663544</td>\n",
       "      <td>57.267761</td>\n",
       "      <td>0.700074</td>\n",
       "      <td>0.135248</td>\n",
       "      <td>47.516754</td>\n",
       "    </tr>\n",
       "    <tr>\n",
       "      <th>min</th>\n",
       "      <td>105.161232</td>\n",
       "      <td>-36.028889</td>\n",
       "      <td>0.018537</td>\n",
       "      <td>0.210376</td>\n",
       "      <td>1.028183</td>\n",
       "      <td>14.001695</td>\n",
       "      <td>841.320679</td>\n",
       "      <td>-83.663528</td>\n",
       "      <td>5.007742</td>\n",
       "      <td>0.200636</td>\n",
       "      <td>250.160736</td>\n",
       "    </tr>\n",
       "    <tr>\n",
       "      <th>25%</th>\n",
       "      <td>118.077396</td>\n",
       "      <td>-6.519082</td>\n",
       "      <td>9.142362</td>\n",
       "      <td>0.250053</td>\n",
       "      <td>2.429192</td>\n",
       "      <td>14.554678</td>\n",
       "      <td>1292.868286</td>\n",
       "      <td>100.174896</td>\n",
       "      <td>5.596301</td>\n",
       "      <td>0.289586</td>\n",
       "      <td>359.813660</td>\n",
       "    </tr>\n",
       "    <tr>\n",
       "      <th>50%</th>\n",
       "      <td>122.696293</td>\n",
       "      <td>0.178757</td>\n",
       "      <td>14.588420</td>\n",
       "      <td>0.270911</td>\n",
       "      <td>3.048163</td>\n",
       "      <td>15.009361</td>\n",
       "      <td>1544.491699</td>\n",
       "      <td>137.891426</td>\n",
       "      <td>6.044438</td>\n",
       "      <td>0.363312</td>\n",
       "      <td>398.788223</td>\n",
       "    </tr>\n",
       "    <tr>\n",
       "      <th>75%</th>\n",
       "      <td>128.126064</td>\n",
       "      <td>7.321825</td>\n",
       "      <td>19.691241</td>\n",
       "      <td>0.301649</td>\n",
       "      <td>3.460764</td>\n",
       "      <td>15.490494</td>\n",
       "      <td>1755.649628</td>\n",
       "      <td>177.167145</td>\n",
       "      <td>6.525536</td>\n",
       "      <td>0.470847</td>\n",
       "      <td>425.369370</td>\n",
       "    </tr>\n",
       "    <tr>\n",
       "      <th>max</th>\n",
       "      <td>149.578079</td>\n",
       "      <td>25.480022</td>\n",
       "      <td>359.953735</td>\n",
       "      <td>0.348901</td>\n",
       "      <td>3.993114</td>\n",
       "      <td>15.996614</td>\n",
       "      <td>1999.230713</td>\n",
       "      <td>249.904449</td>\n",
       "      <td>9.708512</td>\n",
       "      <td>0.922449</td>\n",
       "      <td>449.922180</td>\n",
       "    </tr>\n",
       "  </tbody>\n",
       "</table>\n",
       "</div>"
      ],
      "text/plain": [
       "              lon         lat         inc        D1AU       delta  \\\n",
       "count  512.000000  512.000000  512.000000  512.000000  512.000000   \n",
       "mean   123.207367    0.383455   27.670134    0.276399    2.907418   \n",
       "std      7.428696    9.880662   66.831528    0.032857    0.720134   \n",
       "min    105.161232  -36.028889    0.018537    0.210376    1.028183   \n",
       "25%    118.077396   -6.519082    9.142362    0.250053    2.429192   \n",
       "50%    122.696293    0.178757   14.588420    0.270911    3.048163   \n",
       "75%    128.126064    7.321825   19.691241    0.301649    3.460764   \n",
       "max    149.578079   25.480022  359.953735    0.348901    3.993114   \n",
       "\n",
       "       launch radius  launch speed    t factor        B1AU       gamma  \\\n",
       "count     512.000000    512.000000  512.000000  512.000000  512.000000   \n",
       "mean       15.013872   1523.989136  136.532196    6.126930    0.392131   \n",
       "std         0.568476    289.663544   57.267761    0.700074    0.135248   \n",
       "min        14.001695    841.320679  -83.663528    5.007742    0.200636   \n",
       "25%        14.554678   1292.868286  100.174896    5.596301    0.289586   \n",
       "50%        15.009361   1544.491699  137.891426    6.044438    0.363312   \n",
       "75%        15.490494   1755.649628  177.167145    6.525536    0.470847   \n",
       "max        15.996614   1999.230713  249.904449    9.708512    0.922449   \n",
       "\n",
       "              vsw  \n",
       "count  512.000000  \n",
       "mean   387.536163  \n",
       "std     47.516754  \n",
       "min    250.160736  \n",
       "25%    359.813660  \n",
       "50%    398.788223  \n",
       "75%    425.369370  \n",
       "max    449.922180  "
      ]
     },
     "execution_count": 17,
     "metadata": {},
     "output_type": "execute_result"
    }
   ],
   "source": [
    "out.describe()"
   ]
  },
  {
   "cell_type": "code",
   "execution_count": 18,
   "id": "1ad2c6f6",
   "metadata": {},
   "outputs": [],
   "source": [
    "# write output of describe() to csv-file\n",
    "out.describe().to_csv(filepath+'parameters.csv')\n",
    "\n",
    "# write parameters of whole ensemble to txt-file\n",
    "with open(filepath+'parameters_ensemble.txt', 'a') as f:\n",
    "    dfAsString = out.to_string(header=True, index=True)\n",
    "    f.write(dfAsString)"
   ]
  },
  {
   "cell_type": "code",
   "execution_count": 19,
   "id": "53914807",
   "metadata": {},
   "outputs": [],
   "source": [
    "names = ['lon: ', 'lat: ', 'inc: ', 'diameter 1 AU: ', 'aspect ratio: ', 'launch radius: ', 'launch speed: ', \n",
    "         't factor: ', 'expansion rate: ', 'magnetic field decay rate: ', 'magnetic field 1 AU: ', 'drag coefficient: ', \n",
    "         'background sw speed: ']\n",
    " \n",
    "# write output of describe() to txt-file    \n",
    "with open(filepath+'parameters_summary.txt', 'a') as f:\n",
    "    dfAsString = out.describe().to_string(header=True, index=True)\n",
    "    f.write(dfAsString)   \n",
    "    f.write('\\n')\n",
    "    f.write('Fitting points:')\n",
    "    f.write(str(fittingPoints))\n",
    "    f.write('\\n')\n",
    "    f.write('Parameters for run with min(eps):')\n",
    "    f.write('\\n')\n",
    "    for count, name in enumerate(names):\n",
    "        f.write(\" --{} {:.2f}\".format(name, res[count+1]))\n",
    "        f.write('\\n')"
   ]
  },
  {
   "cell_type": "markdown",
   "id": "5cc67d2a",
   "metadata": {},
   "source": [
    "#### loading and plotting the fitting results"
   ]
  },
  {
   "cell_type": "code",
   "execution_count": 24,
   "id": "d8d5dcc4",
   "metadata": {},
   "outputs": [],
   "source": [
    "t_s = datetime.datetime(2022, 9, 7, 5, tzinfo=datetime.timezone.utc) \n",
    "t_e = datetime.datetime(2022, 9, 8, 8, tzinfo=datetime.timezone.utc)"
   ]
  },
  {
   "cell_type": "code",
   "execution_count": 25,
   "id": "73cb36a5",
   "metadata": {},
   "outputs": [
    {
     "name": "stderr",
     "output_type": "stream",
     "text": [
      "INFO:py3dcore_h4c.fluxplot:Using HelioSat to retrieve observer data\n",
      "INFO:py3dcore_h4c.fluxplot:No iparams_arr given, using parameters for run with minimum eps.\n",
      "INFO:py3dcore_h4c.fitter.base:Using HelioSat to retrieve observer data\n"
     ]
    }
   ],
   "source": [
    "fp.fullinsitu(observer='SOLO', t_fit=t_fit, start=t_s, end=t_e, filepath=filepath, custom_data=False, best=True, ensemble=True, \n",
    "              mean=False, save_fig=True, legend=True, fixed=None, max_index=512, title=True, fit_points=True)"
   ]
  },
  {
   "cell_type": "code",
   "execution_count": 109,
   "id": "f2bf679e",
   "metadata": {},
   "outputs": [],
   "source": [
    "fp.scatterparams(filepath)"
   ]
  },
  {
   "cell_type": "code",
   "execution_count": 12,
   "id": "29abf62a",
   "metadata": {},
   "outputs": [
    {
     "name": "stdout",
     "output_type": "stream",
     "text": [
      "172.78905\n",
      "4.882709\n",
      "0.53428584\n",
      "266.25516\n"
     ]
    }
   ],
   "source": [
    "print(out['lon'].mean())\n",
    "print(out['lon'].std())\n",
    "print(out['launch radius'].std())\n",
    "print(out['launch speed'].std())"
   ]
  },
  {
   "cell_type": "markdown",
   "id": "867a53bc",
   "metadata": {},
   "source": [
    "#### Plotting the fluxrope and spacecraft positions"
   ]
  },
  {
   "cell_type": "code",
   "execution_count": 43,
   "id": "05c81430",
   "metadata": {},
   "outputs": [
    {
     "name": "stderr",
     "output_type": "stream",
     "text": [
      "INFO:sunpy:Obtained JPL HORIZONS location for Solar Orbiter (spacecraft) (-144\n"
     ]
    },
    {
     "name": "stdout",
     "output_type": "stream",
     "text": [
      "INFO: Obtained JPL HORIZONS location for Solar Orbiter (spacecraft) (-144 [sunpy.coordinates.ephemeris]\n"
     ]
    },
    {
     "name": "stderr",
     "output_type": "stream",
     "text": [
      "INFO:py3dcore_h4c.fluxplot:Indices of date: 3359\n",
      "INFO:py3dcore_h4c.fluxplot:Solar Orbiter - r: 0.685782, lon: 150.019487, lat: -3.708597, \n",
      "INFO:sunpy:Obtained JPL HORIZONS location for Solar Orbiter (spacecraft) (-144\n"
     ]
    },
    {
     "name": "stdout",
     "output_type": "stream",
     "text": [
      "INFO: Obtained JPL HORIZONS location for Solar Orbiter (spacecraft) (-144 [sunpy.coordinates.ephemeris]\n"
     ]
    },
    {
     "name": "stderr",
     "output_type": "stream",
     "text": [
      "INFO:py3dcore_h4c.fluxplot:Indices of date: 1919\n",
      "INFO:py3dcore_h4c.fluxplot:Solar Orbiter - r: 0.685782, lon: 150.019487, lat: -3.708597, \n",
      "INFO:sunpy:Obtained JPL HORIZONS location for Parker Solar Probe (spacecraft)\n"
     ]
    },
    {
     "name": "stdout",
     "output_type": "stream",
     "text": [
      "INFO: Obtained JPL HORIZONS location for Parker Solar Probe (spacecraft) [sunpy.coordinates.ephemeris]\n"
     ]
    },
    {
     "name": "stderr",
     "output_type": "stream",
     "text": [
      "INFO:py3dcore_h4c.fluxplot:Indices of date: 3359\n",
      "INFO:py3dcore_h4c.fluxplot:Parker Solar Probe - r: 0.090229, lon: -126.891289, lat: -2.366818, \n",
      "INFO:sunpy:Obtained JPL HORIZONS location for Parker Solar Probe (spacecraft)\n"
     ]
    },
    {
     "name": "stdout",
     "output_type": "stream",
     "text": [
      "INFO: Obtained JPL HORIZONS location for Parker Solar Probe (spacecraft) [sunpy.coordinates.ephemeris]\n"
     ]
    },
    {
     "name": "stderr",
     "output_type": "stream",
     "text": [
      "INFO:py3dcore_h4c.fluxplot:Indices of date: 1919\n",
      "INFO:py3dcore_h4c.fluxplot:Parker Solar Probe - r: 0.090229, lon: -126.891289, lat: -2.366818, \n"
     ]
    }
   ],
   "source": [
    "#measurement times \n",
    "#tm0 =  t_launch + datetime.timedelta(days=1.5)\n",
    "tm0 =  datetime.datetime(2022, 9, 5, 16)\n",
    "tm1 =  t_launch + datetime.timedelta(days=1.7)\n",
    "tm2 =  t_launch + datetime.timedelta(days=3.5)\n",
    "\n",
    "fig = fp.full3d(spacecraftlist=['solo', 'psp'], planetlist=['Earth'], t=tm1, filepath=filepath)"
   ]
  },
  {
   "cell_type": "markdown",
   "id": "d3b6ed5a",
   "metadata": {},
   "source": [
    "### make fluxrope 3d movie"
   ]
  },
  {
   "cell_type": "code",
   "execution_count": 14,
   "id": "08f549e3",
   "metadata": {},
   "outputs": [],
   "source": [
    "def make_frame(k):\n",
    "    tm0 = datetime.datetime(2022, 9, 5, 19)\n",
    "    t = tm0 + k*datetime.timedelta(hours=1)\n",
    "    \n",
    "    fig = fp.full3d(spacecraftlist=['solo', 'psp'], planetlist =['Earth'],\n",
    "              t = t, filepath = filepath, save_fig = False)\n",
    "    frmstr = '%05i' % (k) \n",
    "    plt.savefig(filepath[:-7] + 'movie_3d/'+frmstr+'.jpg',dpi=200)  \n",
    "    return fig\n",
    "    "
   ]
  },
  {
   "cell_type": "code",
   "execution_count": 15,
   "id": "c69cf236",
   "metadata": {},
   "outputs": [
    {
     "name": "stdout",
     "output_type": "stream",
     "text": [
      "done 1/4\n",
      "done 2/4\n",
      "done 3/4\n",
      "done 4/4\n"
     ]
    }
   ],
   "source": [
    "inn=[i for i in range(100)]\n",
    "\n",
    "\n",
    "mpool = multiprocessing.Pool(processes=5)\n",
    "mpool.map(make_frame, inn[0:20])\n",
    "mpool.close()\n",
    "mpool.join()\n",
    "\n",
    "print('done 1/4')\n",
    "\n",
    "mpool = multiprocessing.Pool(processes=5)\n",
    "mpool.map(make_frame, inn[20:40])\n",
    "mpool.close()\n",
    "mpool.join()\n",
    "\n",
    "print('done 2/4')\n",
    "\n",
    "mpool = multiprocessing.Pool(processes=5)\n",
    "mpool.map(make_frame, inn[40:60])\n",
    "mpool.close()\n",
    "mpool.join()\n",
    "\n",
    "print('done 3/4')\n",
    "\n",
    "mpool = multiprocessing.Pool(processes=5)\n",
    "mpool.map(make_frame, inn[40:80])\n",
    "mpool.close()\n",
    "mpool.join()\n",
    "\n",
    "print('done 4/4')"
   ]
  },
  {
   "cell_type": "code",
   "execution_count": 16,
   "id": "dfd7d7f1",
   "metadata": {},
   "outputs": [
    {
     "data": {
      "text/plain": [
       "0"
      ]
     },
     "execution_count": 16,
     "metadata": {},
     "output_type": "execute_result"
    }
   ],
   "source": [
    "os.system('ffmpeg -r 25 -i '+filepath[:-7]+'movie_3d/%05d.jpg -b 5000k -r 25 '+filepath[:-7]+'movie_3d/full_3d_movie.mp4 -y -loglevel quiet')"
   ]
  },
  {
   "cell_type": "markdown",
   "id": "0b456adc",
   "metadata": {},
   "source": [
    "### plot fluxrope 3d multiview"
   ]
  },
  {
   "cell_type": "code",
   "execution_count": 17,
   "id": "38cc03cd",
   "metadata": {},
   "outputs": [],
   "source": [
    "#measurement times \n",
    "#tm0 =  t_launch + datetime.timedelta(days=1.5)\n",
    "tm0 =  datetime.datetime(2022, 9, 7, 1)\n",
    "tm1 =  t_launch + datetime.timedelta(days=1.7)\n",
    "tm2 =  t_launch + datetime.timedelta(days=3.5)\n",
    "\n",
    "fig = fp.full3d_multiview(t_launch = t_launch, filepath=filepath)"
   ]
  },
  {
   "cell_type": "markdown",
   "id": "94f337f9",
   "metadata": {},
   "source": [
    "### make fluxrope 3d multiview movie"
   ]
  },
  {
   "cell_type": "code",
   "execution_count": 18,
   "id": "66325e68",
   "metadata": {},
   "outputs": [],
   "source": [
    "def make_frame2(k):\n",
    "    tm0 = datetime.datetime(2022, 9, 5, 19)\n",
    "    t = tm0 + k*datetime.timedelta(hours=1)\n",
    "    frametime = k\n",
    "    \n",
    "    fig = fp.full3d_multiview_movie(t_launch = tm0, t = t, filepath=filepath,\n",
    "                                    frametime=k)\n",
    "    frmstr = '%05i' % (k) \n",
    "    plt.savefig(filepath[:-7] + 'movie_3d_multiview/'+frmstr+'.jpg',dpi=200)  \n",
    "    return fig"
   ]
  },
  {
   "cell_type": "code",
   "execution_count": 19,
   "id": "19d14a98",
   "metadata": {},
   "outputs": [
    {
     "name": "stdout",
     "output_type": "stream",
     "text": [
      "The history saving thread hit an unexpected error (OperationalError('disk I/O error')).History will not be written to the database.\n",
      "done 1/4\n",
      "done 2/4\n",
      "done 3/4\n",
      "done 4/4\n"
     ]
    }
   ],
   "source": [
    "inn=[i for i in range(100)]\n",
    "\n",
    "\n",
    "mpool = multiprocessing.Pool(processes=5)\n",
    "mpool.map(make_frame2, inn[0:20])\n",
    "mpool.close()\n",
    "mpool.join()\n",
    "\n",
    "print('done 1/4')\n",
    "\n",
    "mpool = multiprocessing.Pool(processes=5)\n",
    "mpool.map(make_frame2, inn[20:40])\n",
    "mpool.close()\n",
    "mpool.join()\n",
    "\n",
    "print('done 2/4')\n",
    "\n",
    "mpool = multiprocessing.Pool(processes=5)\n",
    "mpool.map(make_frame2, inn[40:60])\n",
    "mpool.close()\n",
    "mpool.join()\n",
    "\n",
    "print('done 3/4')\n",
    "\n",
    "mpool = multiprocessing.Pool(processes=5)\n",
    "mpool.map(make_frame2, inn[40:80])\n",
    "mpool.close()\n",
    "mpool.join()\n",
    "\n",
    "print('done 4/4')"
   ]
  },
  {
   "cell_type": "code",
   "execution_count": 20,
   "id": "85e40255",
   "metadata": {},
   "outputs": [
    {
     "data": {
      "text/plain": [
       "0"
      ]
     },
     "execution_count": 20,
     "metadata": {},
     "output_type": "execute_result"
    }
   ],
   "source": [
    "os.system('ffmpeg -r 25 -i '+filepath[:-7]+'movie_3d_multiview/%05d.jpg -b 5000k -r 25 '+filepath[:-7]+'movie_3d/full_3d_multiview_movie.mp4 -y -loglevel quiet')"
   ]
  },
  {
   "cell_type": "markdown",
   "id": "6ca4def7",
   "metadata": {},
   "source": [
    "# Used for Debug"
   ]
  },
  {
   "cell_type": "code",
   "execution_count": 21,
   "id": "789ad553",
   "metadata": {},
   "outputs": [],
   "source": [
    "TP_A =  t_launch + datetime.timedelta(hours=2)\n",
    "TP_B =  t_launch + datetime.timedelta(hours=40)\n",
    "\n",
    "\n",
    "C_A = \"xkcd:red\"\n",
    "C_B = \"xkcd:blue\"\n",
    "    \n",
    "sns.set_style('whitegrid')\n",
    "\n",
    "fig = plt.figure(figsize=(15, 11),dpi=100)\n",
    "\n",
    "ax1 = plt.subplot2grid((2, 3), (0, 0),rowspan=2,colspan=2,projection='3d')  \n",
    "ax2 = plt.subplot2grid((2, 3), (0, 2),projection='3d')  \n",
    "ax3 = plt.subplot2grid((2, 3), (1, 2),projection='3d')  \n",
    "\n",
    "model_obj = fp.returnmodel(filepath)\n",
    "\n",
    "\n",
    "fp.plot_configure(ax1, view_azim=150, view_elev=25, view_radius=.2,light_source=True) #view_radius=.08\n",
    "\n",
    "fp.plot_3dcore(ax1, model_obj, TP_A, color=C_A,light_source = True)\n",
    "fp.plot_3dcore(ax1, model_obj, TP_B, color=C_B,light_source = True)\n",
    "\n",
    "fp.plot_shift(ax1,0.31,-0.25,0.0,-0.2)\n",
    "\n",
    "\n",
    "fp.plot_configure(ax2, view_azim=165-90, view_elev=90, view_radius=.08,light_source=True)\n",
    "    \n",
    "fp.plot_3dcore(ax2, model_obj, TP_A, color=C_A,light_source = True)\n",
    "fp.plot_3dcore(ax2, model_obj, TP_B, color=C_B,light_source = True)\n",
    "\n",
    "fp.plot_shift(ax2,0.26,-0.41,0.08,0.0)\n",
    "\n",
    "\n",
    "\n",
    "fp.plot_configure(ax3, view_azim=65, view_elev=-5, view_radius=.01,light_source=True)\n",
    "    \n",
    "fp.plot_3dcore(ax3, model_obj, TP_A, color=C_A,light_source = True)\n",
    "fp.plot_3dcore(ax3, model_obj, TP_B, color=C_B,light_source = True)\n",
    "\n",
    "fp.plot_shift(ax3,0.26,-0.41,0.08,0.0)\n",
    "\n"
   ]
  },
  {
   "cell_type": "code",
   "execution_count": null,
   "id": "2c9e16e3",
   "metadata": {},
   "outputs": [],
   "source": []
  },
  {
   "cell_type": "code",
   "execution_count": null,
   "id": "49ef318b",
   "metadata": {},
   "outputs": [],
   "source": []
  }
 ],
 "metadata": {
  "kernelspec": {
   "display_name": "Python 3 (ipykernel)",
   "language": "python",
   "name": "python3"
  },
  "language_info": {
   "codemirror_mode": {
    "name": "ipython",
    "version": 3
   },
   "file_extension": ".py",
   "mimetype": "text/x-python",
   "name": "python",
   "nbconvert_exporter": "python",
   "pygments_lexer": "ipython3",
   "version": "3.10.10"
  }
 },
 "nbformat": 4,
 "nbformat_minor": 5
}
